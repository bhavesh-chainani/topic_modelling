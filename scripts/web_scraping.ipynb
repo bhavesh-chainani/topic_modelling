{
 "cells": [
  {
   "cell_type": "code",
   "execution_count": 15,
   "id": "b170ff95",
   "metadata": {},
   "outputs": [],
   "source": [
    "import wikipedia\n",
    "import pandas as pd"
   ]
  },
  {
   "cell_type": "code",
   "execution_count": 16,
   "id": "70b8d483",
   "metadata": {},
   "outputs": [],
   "source": [
    "#selective wikipedia article topics\n",
    "articles = ['George_Clooney', 'Shah_Rukh_Khan', 'Leonardo_DiCaprio', 'Will_Smith',\n",
    "            'Kamal_Haasan', 'Tom_Cruise', 'Dwayne_Johnson', 'Brad_Pitt',\n",
    "            'Johnny_Depp', 'Morgan_Freeman', 'Ed_Sheeran', 'A._R._Rahman',\n",
    "            'Bruno_Mars', 'Taylor_Swift', 'Eminem', 'Shakira', 'Ellie_Goulding',\n",
    "            'Michael_Jackson', 'Selena_Gomez', 'Lionel_Messi',\n",
    "            'Cristiano_Ronaldo', 'Rafael_Nadal', 'Usain_Bolt',\n",
    "            'Stephen_Curry', 'Roger_Federer', 'Virat_Kohli', 'Serena_Williams',\n",
    "            'James_Patterson', 'Stephen_King', 'J._K._Rowling',\n",
    "            'Dan_Brown', 'Agatha_Christie', 'Ken_Follett', 'Neil_Gaiman', \n",
    "            'John_Grisham', 'Nora_Roberts', 'Arundhati_Roy', 'Mark_Zuckerberg',\n",
    "            'Jeff_Bezos', 'Bill_Gates', 'Larry_Page', 'Tim_Cook', \n",
    "            'Elon_Musk', 'Warren_Buffett', 'Xi_Jinping', 'Vladimir_Putin', \n",
    "            'Donald_Trump', 'Barack_Obama', 'David_Cameron', 'Hillary_Clinton',\n",
    "            'Bill_Clinton']"
   ]
  },
  {
   "cell_type": "code",
   "execution_count": 18,
   "id": "06dd6bb1",
   "metadata": {},
   "outputs": [
    {
     "name": "stdout",
     "output_type": "stream",
     "text": [
      "Obtaining English data now\n"
     ]
    }
   ],
   "source": [
    "print(\"Obtaining English data now\")\n",
    "wikipedia.set_lang(\"en\")\n",
    "content = []\n",
    "person = []\n",
    "\n",
    "for i in articles:\n",
    "#     print(\"Examining \" + str(i))\n",
    "    person.append(wikipedia.page(i, auto_suggest=False).title)\n",
    "    content.append(wikipedia.page(i, auto_suggest=False).content)"
   ]
  },
  {
   "cell_type": "code",
   "execution_count": 19,
   "id": "b6383ee2",
   "metadata": {},
   "outputs": [],
   "source": [
    "df_eng = pd.DataFrame(list(zip(person,content)), columns=['person', 'content'])"
   ]
  },
  {
   "cell_type": "code",
   "execution_count": 20,
   "id": "91dbe52a",
   "metadata": {},
   "outputs": [
    {
     "name": "stdout",
     "output_type": "stream",
     "text": [
      "Obtaining Russian data now\n"
     ]
    }
   ],
   "source": [
    "print(\"Obtaining Russian data now\")\n",
    "wikipedia.set_lang(\"ru\")\n",
    "content = []\n",
    "person = []\n",
    "\n",
    "for i in articles:\n",
    "#     print(\"Examining \" + str(i))\n",
    "    person.append(wikipedia.page(i, auto_suggest=False).title)\n",
    "    content.append(wikipedia.page(i, auto_suggest=False).content)"
   ]
  },
  {
   "cell_type": "code",
   "execution_count": 21,
   "id": "ed68f187",
   "metadata": {},
   "outputs": [],
   "source": [
    "df_ru = pd.DataFrame(list(zip(person,content)), columns=['person', 'content'])"
   ]
  },
  {
   "cell_type": "code",
   "execution_count": 22,
   "id": "d152d0bd",
   "metadata": {},
   "outputs": [
    {
     "name": "stdout",
     "output_type": "stream",
     "text": [
      "Obtaining Italian data now\n"
     ]
    }
   ],
   "source": [
    "print(\"Obtaining Italian data now\")\n",
    "wikipedia.set_lang(\"it\")\n",
    "content = []\n",
    "person = []\n",
    "\n",
    "for i in articles:\n",
    "#     print(\"Examining \" + str(i))\n",
    "    person.append(wikipedia.page(i, auto_suggest=False).title)\n",
    "    content.append(wikipedia.page(i, auto_suggest=False).content)\n",
    "    \n",
    "df_it = pd.DataFrame(list(zip(person,content)), columns=['person', 'content'])"
   ]
  },
  {
   "cell_type": "code",
   "execution_count": 23,
   "id": "ce4ed585",
   "metadata": {},
   "outputs": [
    {
     "data": {
      "text/html": [
       "<div>\n",
       "<style scoped>\n",
       "    .dataframe tbody tr th:only-of-type {\n",
       "        vertical-align: middle;\n",
       "    }\n",
       "\n",
       "    .dataframe tbody tr th {\n",
       "        vertical-align: top;\n",
       "    }\n",
       "\n",
       "    .dataframe thead th {\n",
       "        text-align: right;\n",
       "    }\n",
       "</style>\n",
       "<table border=\"1\" class=\"dataframe\">\n",
       "  <thead>\n",
       "    <tr style=\"text-align: right;\">\n",
       "      <th></th>\n",
       "      <th>person</th>\n",
       "      <th>content</th>\n",
       "    </tr>\n",
       "  </thead>\n",
       "  <tbody>\n",
       "    <tr>\n",
       "      <th>0</th>\n",
       "      <td>George Clooney</td>\n",
       "      <td>George Timothy Clooney (born May 6, 1961) is a...</td>\n",
       "    </tr>\n",
       "    <tr>\n",
       "      <th>1</th>\n",
       "      <td>Shah Rukh Khan</td>\n",
       "      <td>Shah Rukh Khan (pronounced [ˈʃɑːɦɾʊx xɑːn]; bo...</td>\n",
       "    </tr>\n",
       "    <tr>\n",
       "      <th>2</th>\n",
       "      <td>Leonardo DiCaprio</td>\n",
       "      <td>Leonardo Wilhelm DiCaprio (; Italian: [diˈkaːp...</td>\n",
       "    </tr>\n",
       "    <tr>\n",
       "      <th>3</th>\n",
       "      <td>Will Smith</td>\n",
       "      <td>Willard Carroll  Smith II (born September 25, ...</td>\n",
       "    </tr>\n",
       "    <tr>\n",
       "      <th>4</th>\n",
       "      <td>Kamal Haasan</td>\n",
       "      <td>Kamal Haasan (born 7 November 1954) is an Indi...</td>\n",
       "    </tr>\n",
       "  </tbody>\n",
       "</table>\n",
       "</div>"
      ],
      "text/plain": [
       "              person                                            content\n",
       "0     George Clooney  George Timothy Clooney (born May 6, 1961) is a...\n",
       "1     Shah Rukh Khan  Shah Rukh Khan (pronounced [ˈʃɑːɦɾʊx xɑːn]; bo...\n",
       "2  Leonardo DiCaprio  Leonardo Wilhelm DiCaprio (; Italian: [diˈkaːp...\n",
       "3         Will Smith  Willard Carroll  Smith II (born September 25, ...\n",
       "4       Kamal Haasan  Kamal Haasan (born 7 November 1954) is an Indi..."
      ]
     },
     "execution_count": 23,
     "metadata": {},
     "output_type": "execute_result"
    }
   ],
   "source": [
    "df_eng.head()"
   ]
  },
  {
   "cell_type": "code",
   "execution_count": 24,
   "id": "bceaa9ba",
   "metadata": {},
   "outputs": [
    {
     "data": {
      "text/html": [
       "<div>\n",
       "<style scoped>\n",
       "    .dataframe tbody tr th:only-of-type {\n",
       "        vertical-align: middle;\n",
       "    }\n",
       "\n",
       "    .dataframe tbody tr th {\n",
       "        vertical-align: top;\n",
       "    }\n",
       "\n",
       "    .dataframe thead th {\n",
       "        text-align: right;\n",
       "    }\n",
       "</style>\n",
       "<table border=\"1\" class=\"dataframe\">\n",
       "  <thead>\n",
       "    <tr style=\"text-align: right;\">\n",
       "      <th></th>\n",
       "      <th>person</th>\n",
       "      <th>content</th>\n",
       "    </tr>\n",
       "  </thead>\n",
       "  <tbody>\n",
       "    <tr>\n",
       "      <th>0</th>\n",
       "      <td>Клуни, Джордж</td>\n",
       "      <td>Джордж Ти́моти Клу́ни (англ. George Timothy Cl...</td>\n",
       "    </tr>\n",
       "    <tr>\n",
       "      <th>1</th>\n",
       "      <td>Хан, Шахрух</td>\n",
       "      <td>Ша́хрух Хан (хинди शाहरुख़ ख़ान, урду شاہ رخ خ...</td>\n",
       "    </tr>\n",
       "    <tr>\n",
       "      <th>2</th>\n",
       "      <td>Ди Каприо, Леонардо</td>\n",
       "      <td>Леона́рдо Вильге́льм Ди Ка́прио (англ. Leonard...</td>\n",
       "    </tr>\n",
       "    <tr>\n",
       "      <th>3</th>\n",
       "      <td>Смит, Уилл</td>\n",
       "      <td>Уи́ллард Кэ́рролл (Уи́лл) Смит Второй (англ. W...</td>\n",
       "    </tr>\n",
       "    <tr>\n",
       "      <th>4</th>\n",
       "      <td>Камал Хасан</td>\n",
       "      <td>Камал Хасан (англ. Kamal Haasan, там. கமல்ஹாசன...</td>\n",
       "    </tr>\n",
       "  </tbody>\n",
       "</table>\n",
       "</div>"
      ],
      "text/plain": [
       "                person                                            content\n",
       "0        Клуни, Джордж  Джордж Ти́моти Клу́ни (англ. George Timothy Cl...\n",
       "1          Хан, Шахрух  Ша́хрух Хан (хинди शाहरुख़ ख़ान, урду شاہ رخ خ...\n",
       "2  Ди Каприо, Леонардо  Леона́рдо Вильге́льм Ди Ка́прио (англ. Leonard...\n",
       "3           Смит, Уилл  Уи́ллард Кэ́рролл (Уи́лл) Смит Второй (англ. W...\n",
       "4          Камал Хасан  Камал Хасан (англ. Kamal Haasan, там. கமல்ஹாசன..."
      ]
     },
     "execution_count": 24,
     "metadata": {},
     "output_type": "execute_result"
    }
   ],
   "source": [
    "df_ru.head()"
   ]
  },
  {
   "cell_type": "code",
   "execution_count": 25,
   "id": "959aae70",
   "metadata": {},
   "outputs": [
    {
     "data": {
      "text/html": [
       "<div>\n",
       "<style scoped>\n",
       "    .dataframe tbody tr th:only-of-type {\n",
       "        vertical-align: middle;\n",
       "    }\n",
       "\n",
       "    .dataframe tbody tr th {\n",
       "        vertical-align: top;\n",
       "    }\n",
       "\n",
       "    .dataframe thead th {\n",
       "        text-align: right;\n",
       "    }\n",
       "</style>\n",
       "<table border=\"1\" class=\"dataframe\">\n",
       "  <thead>\n",
       "    <tr style=\"text-align: right;\">\n",
       "      <th></th>\n",
       "      <th>person</th>\n",
       "      <th>content</th>\n",
       "    </tr>\n",
       "  </thead>\n",
       "  <tbody>\n",
       "    <tr>\n",
       "      <th>0</th>\n",
       "      <td>George Clooney</td>\n",
       "      <td>George Timothy Clooney (Lexington, 6 maggio 19...</td>\n",
       "    </tr>\n",
       "    <tr>\n",
       "      <th>1</th>\n",
       "      <td>Shah Rukh Khan</td>\n",
       "      <td>Shah Rukh Khan, all'anagrafe Shahrukh Khan, co...</td>\n",
       "    </tr>\n",
       "    <tr>\n",
       "      <th>2</th>\n",
       "      <td>Leonardo DiCaprio</td>\n",
       "      <td>Leonardo Wilhelm DiCaprio (Los Angeles, 11 nov...</td>\n",
       "    </tr>\n",
       "    <tr>\n",
       "      <th>3</th>\n",
       "      <td>Will Smith</td>\n",
       "      <td>Will Smith, all'anagrafe Willard Carroll Smith...</td>\n",
       "    </tr>\n",
       "    <tr>\n",
       "      <th>4</th>\n",
       "      <td>Kamal Haasan</td>\n",
       "      <td>Kamal Haasan (Ramanathapuram, 7 novembre 1954)...</td>\n",
       "    </tr>\n",
       "  </tbody>\n",
       "</table>\n",
       "</div>"
      ],
      "text/plain": [
       "              person                                            content\n",
       "0     George Clooney  George Timothy Clooney (Lexington, 6 maggio 19...\n",
       "1     Shah Rukh Khan  Shah Rukh Khan, all'anagrafe Shahrukh Khan, co...\n",
       "2  Leonardo DiCaprio  Leonardo Wilhelm DiCaprio (Los Angeles, 11 nov...\n",
       "3         Will Smith  Will Smith, all'anagrafe Willard Carroll Smith...\n",
       "4       Kamal Haasan  Kamal Haasan (Ramanathapuram, 7 novembre 1954)..."
      ]
     },
     "execution_count": 25,
     "metadata": {},
     "output_type": "execute_result"
    }
   ],
   "source": [
    "df_it.head()"
   ]
  },
  {
   "cell_type": "code",
   "execution_count": 26,
   "id": "77828466",
   "metadata": {},
   "outputs": [
    {
     "data": {
      "text/html": [
       "<div>\n",
       "<style scoped>\n",
       "    .dataframe tbody tr th:only-of-type {\n",
       "        vertical-align: middle;\n",
       "    }\n",
       "\n",
       "    .dataframe tbody tr th {\n",
       "        vertical-align: top;\n",
       "    }\n",
       "\n",
       "    .dataframe thead th {\n",
       "        text-align: right;\n",
       "    }\n",
       "</style>\n",
       "<table border=\"1\" class=\"dataframe\">\n",
       "  <thead>\n",
       "    <tr style=\"text-align: right;\">\n",
       "      <th></th>\n",
       "      <th>person</th>\n",
       "      <th>content</th>\n",
       "    </tr>\n",
       "  </thead>\n",
       "  <tbody>\n",
       "    <tr>\n",
       "      <th>0</th>\n",
       "      <td>George Clooney</td>\n",
       "      <td>George Timothy Clooney (born May 6, 1961) is a...</td>\n",
       "    </tr>\n",
       "    <tr>\n",
       "      <th>1</th>\n",
       "      <td>Shah Rukh Khan</td>\n",
       "      <td>Shah Rukh Khan (pronounced [ˈʃɑːɦɾʊx xɑːn]; bo...</td>\n",
       "    </tr>\n",
       "    <tr>\n",
       "      <th>2</th>\n",
       "      <td>Leonardo DiCaprio</td>\n",
       "      <td>Leonardo Wilhelm DiCaprio (; Italian: [diˈkaːp...</td>\n",
       "    </tr>\n",
       "    <tr>\n",
       "      <th>3</th>\n",
       "      <td>Will Smith</td>\n",
       "      <td>Willard Carroll  Smith II (born September 25, ...</td>\n",
       "    </tr>\n",
       "    <tr>\n",
       "      <th>4</th>\n",
       "      <td>Kamal Haasan</td>\n",
       "      <td>Kamal Haasan (born 7 November 1954) is an Indi...</td>\n",
       "    </tr>\n",
       "  </tbody>\n",
       "</table>\n",
       "</div>"
      ],
      "text/plain": [
       "              person                                            content\n",
       "0     George Clooney  George Timothy Clooney (born May 6, 1961) is a...\n",
       "1     Shah Rukh Khan  Shah Rukh Khan (pronounced [ˈʃɑːɦɾʊx xɑːn]; bo...\n",
       "2  Leonardo DiCaprio  Leonardo Wilhelm DiCaprio (; Italian: [diˈkaːp...\n",
       "3         Will Smith  Willard Carroll  Smith II (born September 25, ...\n",
       "4       Kamal Haasan  Kamal Haasan (born 7 November 1954) is an Indi..."
      ]
     },
     "execution_count": 26,
     "metadata": {},
     "output_type": "execute_result"
    }
   ],
   "source": [
    "df_comb = pd.concat([df_eng, df_it, df_ru], axis=0).reset_index(drop=True)\n",
    "df_comb.head()"
   ]
  },
  {
   "cell_type": "code",
   "execution_count": 31,
   "id": "bfbc5131",
   "metadata": {},
   "outputs": [],
   "source": [
    "df_comb.to_excel(\"../files/input/combined_data.xlsx\",index=False)"
   ]
  }
 ],
 "metadata": {
  "kernelspec": {
   "display_name": "proofpoint_code",
   "language": "python",
   "name": "proofpoint_code"
  },
  "language_info": {
   "codemirror_mode": {
    "name": "ipython",
    "version": 3
   },
   "file_extension": ".py",
   "mimetype": "text/x-python",
   "name": "python",
   "nbconvert_exporter": "python",
   "pygments_lexer": "ipython3",
   "version": "3.8.10"
  }
 },
 "nbformat": 4,
 "nbformat_minor": 5
}
