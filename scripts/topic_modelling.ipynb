{
 "cells": [
  {
   "cell_type": "code",
   "execution_count": 3,
   "id": "3203636b",
   "metadata": {},
   "outputs": [
    {
     "name": "stderr",
     "output_type": "stream",
     "text": [
      "/Users/bhaveshchainani/virtualenv/proofpoint_code/lib/python3.8/site-packages/past/builtins/misc.py:45: DeprecationWarning: the imp module is deprecated in favour of importlib; see the module's documentation for alternative uses\n",
      "  from imp import reload\n",
      "/Users/bhaveshchainani/virtualenv/proofpoint_code/lib/python3.8/site-packages/gensim/matutils.py:22: DeprecationWarning: Please use `triu` from the `scipy.linalg` namespace, the `scipy.linalg.special_matrices` namespace is deprecated.\n",
      "  from scipy.linalg.special_matrices import triu\n"
     ]
    }
   ],
   "source": [
    "import pandas as pd\n",
    "import matplotlib.pyplot as plt\n",
    "import seaborn as sns\n",
    "sns.set()\n",
    "import spacy\n",
    "import pyLDAvis.gensim_models\n",
    "pyLDAvis.enable_notebook()# Visualise inside a notebook\n",
    "import en_core_web_md\n",
    "from gensim.corpora.dictionary import Dictionary\n",
    "from gensim.models import LdaMulticore\n",
    "from gensim.models import CoherenceModel"
   ]
  },
  {
   "cell_type": "code",
   "execution_count": 4,
   "id": "495e45cf",
   "metadata": {},
   "outputs": [],
   "source": [
    "lang_interested = \"en\""
   ]
  },
  {
   "cell_type": "code",
   "execution_count": 10,
   "id": "5a3f9c8f",
   "metadata": {},
   "outputs": [],
   "source": [
    "df_comb = pd.read_excel(\"../files/input/combined_data.xlsx\")"
   ]
  },
  {
   "cell_type": "code",
   "execution_count": 11,
   "id": "fcb4198b",
   "metadata": {},
   "outputs": [
    {
     "data": {
      "text/html": [
       "<div>\n",
       "<style scoped>\n",
       "    .dataframe tbody tr th:only-of-type {\n",
       "        vertical-align: middle;\n",
       "    }\n",
       "\n",
       "    .dataframe tbody tr th {\n",
       "        vertical-align: top;\n",
       "    }\n",
       "\n",
       "    .dataframe thead th {\n",
       "        text-align: right;\n",
       "    }\n",
       "</style>\n",
       "<table border=\"1\" class=\"dataframe\">\n",
       "  <thead>\n",
       "    <tr style=\"text-align: right;\">\n",
       "      <th></th>\n",
       "      <th>person</th>\n",
       "      <th>content</th>\n",
       "    </tr>\n",
       "  </thead>\n",
       "  <tbody>\n",
       "    <tr>\n",
       "      <th>0</th>\n",
       "      <td>George Clooney</td>\n",
       "      <td>George Timothy Clooney (born May 6, 1961) is a...</td>\n",
       "    </tr>\n",
       "    <tr>\n",
       "      <th>1</th>\n",
       "      <td>Shah Rukh Khan</td>\n",
       "      <td>Shah Rukh Khan (pronounced [ˈʃɑːɦɾʊx xɑːn]; bo...</td>\n",
       "    </tr>\n",
       "    <tr>\n",
       "      <th>2</th>\n",
       "      <td>Leonardo DiCaprio</td>\n",
       "      <td>Leonardo Wilhelm DiCaprio (; Italian: [diˈkaːp...</td>\n",
       "    </tr>\n",
       "    <tr>\n",
       "      <th>3</th>\n",
       "      <td>Will Smith</td>\n",
       "      <td>Willard Carroll  Smith II (born September 25, ...</td>\n",
       "    </tr>\n",
       "    <tr>\n",
       "      <th>4</th>\n",
       "      <td>Kamal Haasan</td>\n",
       "      <td>Kamal Haasan (born 7 November 1954) is an Indi...</td>\n",
       "    </tr>\n",
       "    <tr>\n",
       "      <th>...</th>\n",
       "      <td>...</td>\n",
       "      <td>...</td>\n",
       "    </tr>\n",
       "    <tr>\n",
       "      <th>148</th>\n",
       "      <td>Трамп, Дональд</td>\n",
       "      <td>До́нальд Джон Трамп (англ. Donald John Trump; ...</td>\n",
       "    </tr>\n",
       "    <tr>\n",
       "      <th>149</th>\n",
       "      <td>Обама, Барак</td>\n",
       "      <td>Бара́к Хуссе́йн Оба́ма II (англ. Barack Hussei...</td>\n",
       "    </tr>\n",
       "    <tr>\n",
       "      <th>150</th>\n",
       "      <td>Кэмерон, Дэвид</td>\n",
       "      <td>Дэвид Уильям Дональд Кэ́мерон (Камерон, англ. ...</td>\n",
       "    </tr>\n",
       "    <tr>\n",
       "      <th>151</th>\n",
       "      <td>Клинтон, Хиллари</td>\n",
       "      <td>Хи́ллари Дайа́н Ро́дэм Кли́нтон (англ. Hillary...</td>\n",
       "    </tr>\n",
       "    <tr>\n",
       "      <th>152</th>\n",
       "      <td>Клинтон, Билл</td>\n",
       "      <td>Уи́льям Дже́фферсон (Билл) Кли́нтон (англ. Wil...</td>\n",
       "    </tr>\n",
       "  </tbody>\n",
       "</table>\n",
       "<p>153 rows × 2 columns</p>\n",
       "</div>"
      ],
      "text/plain": [
       "                person                                            content\n",
       "0       George Clooney  George Timothy Clooney (born May 6, 1961) is a...\n",
       "1       Shah Rukh Khan  Shah Rukh Khan (pronounced [ˈʃɑːɦɾʊx xɑːn]; bo...\n",
       "2    Leonardo DiCaprio  Leonardo Wilhelm DiCaprio (; Italian: [diˈkaːp...\n",
       "3           Will Smith  Willard Carroll  Smith II (born September 25, ...\n",
       "4         Kamal Haasan  Kamal Haasan (born 7 November 1954) is an Indi...\n",
       "..                 ...                                                ...\n",
       "148     Трамп, Дональд  До́нальд Джон Трамп (англ. Donald John Trump; ...\n",
       "149       Обама, Барак  Бара́к Хуссе́йн Оба́ма II (англ. Barack Hussei...\n",
       "150     Кэмерон, Дэвид  Дэвид Уильям Дональд Кэ́мерон (Камерон, англ. ...\n",
       "151   Клинтон, Хиллари  Хи́ллари Дайа́н Ро́дэм Кли́нтон (англ. Hillary...\n",
       "152      Клинтон, Билл  Уи́льям Дже́фферсон (Билл) Кли́нтон (англ. Wil...\n",
       "\n",
       "[153 rows x 2 columns]"
      ]
     },
     "execution_count": 11,
     "metadata": {},
     "output_type": "execute_result"
    }
   ],
   "source": [
    "df_comb"
   ]
  },
  {
   "cell_type": "code",
   "execution_count": 29,
   "id": "cc2c183b",
   "metadata": {},
   "outputs": [
    {
     "data": {
      "text/html": [
       "<div>\n",
       "<style scoped>\n",
       "    .dataframe tbody tr th:only-of-type {\n",
       "        vertical-align: middle;\n",
       "    }\n",
       "\n",
       "    .dataframe tbody tr th {\n",
       "        vertical-align: top;\n",
       "    }\n",
       "\n",
       "    .dataframe thead th {\n",
       "        text-align: right;\n",
       "    }\n",
       "</style>\n",
       "<table border=\"1\" class=\"dataframe\">\n",
       "  <thead>\n",
       "    <tr style=\"text-align: right;\">\n",
       "      <th></th>\n",
       "      <th>person</th>\n",
       "      <th>content</th>\n",
       "      <th>actual_lang</th>\n",
       "    </tr>\n",
       "  </thead>\n",
       "  <tbody>\n",
       "    <tr>\n",
       "      <th>55</th>\n",
       "      <td>Kamal Haasan</td>\n",
       "      <td>Kamal Haasan (Ramanathapuram, 7 novembre 1954)...</td>\n",
       "      <td>en</td>\n",
       "    </tr>\n",
       "    <tr>\n",
       "      <th>78</th>\n",
       "      <td>James Patterson</td>\n",
       "      <td>James Patterson (Newburgh, 22 marzo 1947) è un...</td>\n",
       "      <td>en</td>\n",
       "    </tr>\n",
       "  </tbody>\n",
       "</table>\n",
       "</div>"
      ],
      "text/plain": [
       "             person                                            content  \\\n",
       "55     Kamal Haasan  Kamal Haasan (Ramanathapuram, 7 novembre 1954)...   \n",
       "78  James Patterson  James Patterson (Newburgh, 22 marzo 1947) è un...   \n",
       "\n",
       "   actual_lang  \n",
       "55          en  \n",
       "78          en  "
      ]
     },
     "execution_count": 29,
     "metadata": {},
     "output_type": "execute_result"
    }
   ],
   "source": [
    "a = df_comb[df_comb[\"actual_lang\"]==\"en\"]\n",
    "a[a.duplicated('person')]"
   ]
  },
  {
   "cell_type": "code",
   "execution_count": null,
   "id": "6edbfe33",
   "metadata": {},
   "outputs": [],
   "source": [
    "## lang detect python"
   ]
  },
  {
   "cell_type": "code",
   "execution_count": 21,
   "id": "0e969943",
   "metadata": {},
   "outputs": [],
   "source": [
    "from langdetect import detect, DetectorFactory\n",
    "DetectorFactory.seed = 0\n",
    "\n",
    "df_comb[\"actual_lang\"] = df_comb[\"content\"].apply(detect)"
   ]
  },
  {
   "cell_type": "code",
   "execution_count": 22,
   "id": "f5f01ecd",
   "metadata": {},
   "outputs": [
    {
     "data": {
      "text/plain": [
       "en    53\n",
       "ru    51\n",
       "it    49\n",
       "Name: actual_lang, dtype: int64"
      ]
     },
     "execution_count": 22,
     "metadata": {},
     "output_type": "execute_result"
    }
   ],
   "source": [
    "df_comb.actual_lang.value_counts()"
   ]
  },
  {
   "cell_type": "code",
   "execution_count": 16,
   "id": "24fe79b3",
   "metadata": {},
   "outputs": [
    {
     "data": {
      "text/html": [
       "<div>\n",
       "<style scoped>\n",
       "    .dataframe tbody tr th:only-of-type {\n",
       "        vertical-align: middle;\n",
       "    }\n",
       "\n",
       "    .dataframe tbody tr th {\n",
       "        vertical-align: top;\n",
       "    }\n",
       "\n",
       "    .dataframe thead th {\n",
       "        text-align: right;\n",
       "    }\n",
       "</style>\n",
       "<table border=\"1\" class=\"dataframe\">\n",
       "  <thead>\n",
       "    <tr style=\"text-align: right;\">\n",
       "      <th></th>\n",
       "      <th>person</th>\n",
       "      <th>content</th>\n",
       "      <th>actual_lang</th>\n",
       "    </tr>\n",
       "  </thead>\n",
       "  <tbody>\n",
       "    <tr>\n",
       "      <th>0</th>\n",
       "      <td>George Clooney</td>\n",
       "      <td>George Timothy Clooney (born May 6, 1961) is a...</td>\n",
       "      <td>en</td>\n",
       "    </tr>\n",
       "    <tr>\n",
       "      <th>1</th>\n",
       "      <td>Shah Rukh Khan</td>\n",
       "      <td>Shah Rukh Khan (pronounced [ˈʃɑːɦɾʊx xɑːn]; bo...</td>\n",
       "      <td>en</td>\n",
       "    </tr>\n",
       "    <tr>\n",
       "      <th>2</th>\n",
       "      <td>Leonardo DiCaprio</td>\n",
       "      <td>Leonardo Wilhelm DiCaprio (; Italian: [diˈkaːp...</td>\n",
       "      <td>en</td>\n",
       "    </tr>\n",
       "    <tr>\n",
       "      <th>3</th>\n",
       "      <td>Will Smith</td>\n",
       "      <td>Willard Carroll  Smith II (born September 25, ...</td>\n",
       "      <td>en</td>\n",
       "    </tr>\n",
       "    <tr>\n",
       "      <th>4</th>\n",
       "      <td>Kamal Haasan</td>\n",
       "      <td>Kamal Haasan (born 7 November 1954) is an Indi...</td>\n",
       "      <td>en</td>\n",
       "    </tr>\n",
       "    <tr>\n",
       "      <th>...</th>\n",
       "      <td>...</td>\n",
       "      <td>...</td>\n",
       "      <td>...</td>\n",
       "    </tr>\n",
       "    <tr>\n",
       "      <th>148</th>\n",
       "      <td>Трамп, Дональд</td>\n",
       "      <td>До́нальд Джон Трамп (англ. Donald John Trump; ...</td>\n",
       "      <td>ru</td>\n",
       "    </tr>\n",
       "    <tr>\n",
       "      <th>149</th>\n",
       "      <td>Обама, Барак</td>\n",
       "      <td>Бара́к Хуссе́йн Оба́ма II (англ. Barack Hussei...</td>\n",
       "      <td>ru</td>\n",
       "    </tr>\n",
       "    <tr>\n",
       "      <th>150</th>\n",
       "      <td>Кэмерон, Дэвид</td>\n",
       "      <td>Дэвид Уильям Дональд Кэ́мерон (Камерон, англ. ...</td>\n",
       "      <td>ru</td>\n",
       "    </tr>\n",
       "    <tr>\n",
       "      <th>151</th>\n",
       "      <td>Клинтон, Хиллари</td>\n",
       "      <td>Хи́ллари Дайа́н Ро́дэм Кли́нтон (англ. Hillary...</td>\n",
       "      <td>ru</td>\n",
       "    </tr>\n",
       "    <tr>\n",
       "      <th>152</th>\n",
       "      <td>Клинтон, Билл</td>\n",
       "      <td>Уи́льям Дже́фферсон (Билл) Кли́нтон (англ. Wil...</td>\n",
       "      <td>ru</td>\n",
       "    </tr>\n",
       "  </tbody>\n",
       "</table>\n",
       "<p>153 rows × 3 columns</p>\n",
       "</div>"
      ],
      "text/plain": [
       "                person                                            content  \\\n",
       "0       George Clooney  George Timothy Clooney (born May 6, 1961) is a...   \n",
       "1       Shah Rukh Khan  Shah Rukh Khan (pronounced [ˈʃɑːɦɾʊx xɑːn]; bo...   \n",
       "2    Leonardo DiCaprio  Leonardo Wilhelm DiCaprio (; Italian: [diˈkaːp...   \n",
       "3           Will Smith  Willard Carroll  Smith II (born September 25, ...   \n",
       "4         Kamal Haasan  Kamal Haasan (born 7 November 1954) is an Indi...   \n",
       "..                 ...                                                ...   \n",
       "148     Трамп, Дональд  До́нальд Джон Трамп (англ. Donald John Trump; ...   \n",
       "149       Обама, Барак  Бара́к Хуссе́йн Оба́ма II (англ. Barack Hussei...   \n",
       "150     Кэмерон, Дэвид  Дэвид Уильям Дональд Кэ́мерон (Камерон, англ. ...   \n",
       "151   Клинтон, Хиллари  Хи́ллари Дайа́н Ро́дэм Кли́нтон (англ. Hillary...   \n",
       "152      Клинтон, Билл  Уи́льям Дже́фферсон (Билл) Кли́нтон (англ. Wil...   \n",
       "\n",
       "    actual_lang  \n",
       "0            en  \n",
       "1            en  \n",
       "2            en  \n",
       "3            en  \n",
       "4            en  \n",
       "..          ...  \n",
       "148          ru  \n",
       "149          ru  \n",
       "150          ru  \n",
       "151          ru  \n",
       "152          ru  \n",
       "\n",
       "[153 rows x 3 columns]"
      ]
     },
     "execution_count": 16,
     "metadata": {},
     "output_type": "execute_result"
    }
   ],
   "source": [
    "df_comb[\"\"]"
   ]
  },
  {
   "cell_type": "code",
   "execution_count": null,
   "id": "c8368757",
   "metadata": {},
   "outputs": [],
   "source": [
    "## filter to required lang"
   ]
  },
  {
   "cell_type": "code",
   "execution_count": null,
   "id": "efbf8065",
   "metadata": {},
   "outputs": [],
   "source": []
  },
  {
   "cell_type": "code",
   "execution_count": null,
   "id": "1ef5711b",
   "metadata": {},
   "outputs": [],
   "source": []
  },
  {
   "cell_type": "code",
   "execution_count": null,
   "id": "ef1a385f",
   "metadata": {},
   "outputs": [],
   "source": [
    "lang_models = {\"en\": spacy.load(\"en_core_web_md\"), \"it\": spacy.load(\"it_core_news_md\"), \"ru\": spacy.load(\"ru_core_news_md\")}"
   ]
  },
  {
   "cell_type": "code",
   "execution_count": null,
   "id": "1206c950",
   "metadata": {},
   "outputs": [],
   "source": [
    "# Our spaCy model:\n",
    "nlp = en_core_web_md.load()\n",
    "# Tags I want to remove from the text\n",
    "removal= ['ADV','PRON','CCONJ','PUNCT','PART','DET','ADP','SPACE', 'NUM', 'SYM']\n",
    "tokens = []\n",
    "for summary in nlp.pipe(reports['summary']):\n",
    "    proj_tok = [token.lemma_.lower() for token in summary if token.pos_ not in removal and not token.is_stop and token.is_alpha]\n",
    "    tokens.append(proj_tok)"
   ]
  },
  {
   "cell_type": "code",
   "execution_count": null,
   "id": "20bc636c",
   "metadata": {},
   "outputs": [],
   "source": []
  },
  {
   "cell_type": "code",
   "execution_count": null,
   "id": "5717ca68",
   "metadata": {},
   "outputs": [],
   "source": [
    "def format_topics_sentences(ldamodel=None, corpus=corpus, texts=data):\n",
    "    # Init output\n",
    "    sent_topics_df = pd.DataFrame()\n",
    "\n",
    "    # Get main topic in each document\n",
    "    for i, row_list in enumerate(ldamodel[corpus]):\n",
    "        row = row_list[0] if ldamodel.per_word_topics else row_list            \n",
    "        # print(row)\n",
    "        row = sorted(row, key=lambda x: (x[1]), reverse=True)\n",
    "        # Get the Dominant topic, Perc Contribution and Keywords for each document\n",
    "        for j, (topic_num, prop_topic) in enumerate(row):\n",
    "            if j == 0:  # => dominant topic\n",
    "                wp = ldamodel.show_topic(topic_num)\n",
    "                topic_keywords = \", \".join([word for word, prop in wp])\n",
    "                sent_topics_df = sent_topics_df.append(pd.Series([int(topic_num), round(prop_topic,4), topic_keywords]), ignore_index=True)\n",
    "            else:\n",
    "                break\n",
    "    sent_topics_df.columns = ['Dominant_Topic', 'Perc_Contribution', 'Topic_Keywords']\n",
    "\n",
    "    # Add original text to the end of the output\n",
    "    contents = pd.Series(texts)\n",
    "    sent_topics_df = pd.concat([sent_topics_df, contents], axis=1)\n",
    "    return(sent_topics_df)\n",
    "\n",
    "\n",
    "df_topic_sents_keywords = format_topics_sentences(ldamodel=lda_model, corpus=corpus, texts=data_ready)\n",
    "\n",
    "# Format\n",
    "df_dominant_topic = df_topic_sents_keywords.reset_index()\n",
    "df_dominant_topic.columns = ['Document_No', 'Dominant_Topic', 'Topic_Perc_Contrib', 'Keywords', 'Text']\n",
    "df_dominant_topic.head(10)"
   ]
  }
 ],
 "metadata": {
  "kernelspec": {
   "display_name": "proofpoint_code",
   "language": "python",
   "name": "proofpoint_code"
  },
  "language_info": {
   "codemirror_mode": {
    "name": "ipython",
    "version": 3
   },
   "file_extension": ".py",
   "mimetype": "text/x-python",
   "name": "python",
   "nbconvert_exporter": "python",
   "pygments_lexer": "ipython3",
   "version": "3.8.10"
  }
 },
 "nbformat": 4,
 "nbformat_minor": 5
}
