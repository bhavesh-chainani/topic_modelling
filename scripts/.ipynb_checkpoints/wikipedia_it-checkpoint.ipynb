{
 "cells": [
  {
   "cell_type": "code",
   "execution_count": null,
   "id": "2c86141f",
   "metadata": {},
   "outputs": [
    {
     "name": "stdout",
     "output_type": "stream",
     "text": [
      "Examining Xi_Jinping\n"
     ]
    }
   ],
   "source": [
    "import wikipedia\n",
    "import pandas as pd\n",
    "import nltk\n",
    "import string\n",
    "import matplotlib.pyplot as plt\n",
    "\n",
    "#selective wikipedia article topics\n",
    "articles = [\n",
    "            'Xi_Jinping', 'Vladimir_Putin', 'Donald_Trump', \n",
    "            'Barack_Obama', 'David_Cameron', 'Narendra_Modi', 'Hillary_Clinton',\n",
    "            'Bill_Clinton', 'Rahul_Gandhi']\n",
    "\n",
    "wikipedia.set_lang(\"ru\")\n",
    "content = []\n",
    "person = []\n",
    "\n",
    "for i in articles:\n",
    "    print(\"Examining \" + str(i))\n",
    "    person.append(wikipedia.page(i, auto_suggest=False).title)\n",
    "    content.append(wikipedia.page(i, auto_suggest=False).content)\n",
    "    \n",
    "df_eng = pd.DataFrame(list(zip(person,content)), columns=['person', 'content'])"
   ]
  }
 ],
 "metadata": {
  "kernelspec": {
   "display_name": "proofpoint_code",
   "language": "python",
   "name": "proofpoint_code"
  },
  "language_info": {
   "codemirror_mode": {
    "name": "ipython",
    "version": 3
   },
   "file_extension": ".py",
   "mimetype": "text/x-python",
   "name": "python",
   "nbconvert_exporter": "python",
   "pygments_lexer": "ipython3",
   "version": "3.8.10"
  }
 },
 "nbformat": 4,
 "nbformat_minor": 5
}
