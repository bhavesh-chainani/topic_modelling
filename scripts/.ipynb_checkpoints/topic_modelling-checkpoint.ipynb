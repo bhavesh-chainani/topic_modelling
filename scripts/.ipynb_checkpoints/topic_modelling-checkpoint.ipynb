{
 "cells": [
  {
   "cell_type": "code",
   "execution_count": 1,
   "id": "d40b00fd",
   "metadata": {},
   "outputs": [],
   "source": [
    "# set sys.argv\n",
    "import spacy\n",
    "lang_interested = \"en\""
   ]
  },
  {
   "cell_type": "code",
   "execution_count": null,
   "id": "f45fd71d",
   "metadata": {},
   "outputs": [],
   "source": [
    "df_comb = pd.read_excel(\"./input/data_combined.xlsx\")"
   ]
  },
  {
   "cell_type": "code",
   "execution_count": null,
   "id": "83397470",
   "metadata": {},
   "outputs": [],
   "source": [
    "## lang detect python"
   ]
  },
  {
   "cell_type": "code",
   "execution_count": null,
   "id": "b201462f",
   "metadata": {},
   "outputs": [],
   "source": [
    "from langdetect import detect, DetectorFactory\n",
    "DetectorFactory.seed = 0\n",
    "\n",
    "df_comb[\"actual_lang\"] = df_comb[\"content\"].apply(detect)"
   ]
  },
  {
   "cell_type": "code",
   "execution_count": null,
   "id": "3500e89e",
   "metadata": {},
   "outputs": [],
   "source": [
    "lang_models = {\"en\": spacy.load(\"en_core_web_md\"), \"it\": spacy.load(\"it_core_news_md\"), \"ru\": spacy.load(\"ru_core_news_md\")}"
   ]
  },
  {
   "cell_type": "code",
   "execution_count": null,
   "id": "349106f1",
   "metadata": {},
   "outputs": [],
   "source": []
  },
  {
   "cell_type": "code",
   "execution_count": null,
   "id": "bdb0fd3a",
   "metadata": {},
   "outputs": [],
   "source": [
    "def format_topics_sentences(ldamodel=None, corpus=corpus, texts=data):\n",
    "    # Init output\n",
    "    sent_topics_df = pd.DataFrame()\n",
    "\n",
    "    # Get main topic in each document\n",
    "    for i, row_list in enumerate(ldamodel[corpus]):\n",
    "        row = row_list[0] if ldamodel.per_word_topics else row_list            \n",
    "        # print(row)\n",
    "        row = sorted(row, key=lambda x: (x[1]), reverse=True)\n",
    "        # Get the Dominant topic, Perc Contribution and Keywords for each document\n",
    "        for j, (topic_num, prop_topic) in enumerate(row):\n",
    "            if j == 0:  # => dominant topic\n",
    "                wp = ldamodel.show_topic(topic_num)\n",
    "                topic_keywords = \", \".join([word for word, prop in wp])\n",
    "                sent_topics_df = sent_topics_df.append(pd.Series([int(topic_num), round(prop_topic,4), topic_keywords]), ignore_index=True)\n",
    "            else:\n",
    "                break\n",
    "    sent_topics_df.columns = ['Dominant_Topic', 'Perc_Contribution', 'Topic_Keywords']\n",
    "\n",
    "    # Add original text to the end of the output\n",
    "    contents = pd.Series(texts)\n",
    "    sent_topics_df = pd.concat([sent_topics_df, contents], axis=1)\n",
    "    return(sent_topics_df)\n",
    "\n",
    "\n",
    "df_topic_sents_keywords = format_topics_sentences(ldamodel=lda_model, corpus=corpus, texts=data_ready)\n",
    "\n",
    "# Format\n",
    "df_dominant_topic = df_topic_sents_keywords.reset_index()\n",
    "df_dominant_topic.columns = ['Document_No', 'Dominant_Topic', 'Topic_Perc_Contrib', 'Keywords', 'Text']\n",
    "df_dominant_topic.head(10)"
   ]
  }
 ],
 "metadata": {
  "kernelspec": {
   "display_name": "proofpoint_code",
   "language": "python",
   "name": "proofpoint_code"
  },
  "language_info": {
   "codemirror_mode": {
    "name": "ipython",
    "version": 3
   },
   "file_extension": ".py",
   "mimetype": "text/x-python",
   "name": "python",
   "nbconvert_exporter": "python",
   "pygments_lexer": "ipython3",
   "version": "3.8.10"
  }
 },
 "nbformat": 4,
 "nbformat_minor": 5
}
